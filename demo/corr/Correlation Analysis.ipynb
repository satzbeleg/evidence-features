{
 "cells": [
  {
   "cell_type": "code",
   "execution_count": 1,
   "id": "b9423e5a-b25a-4d65-a3d0-4540d521edbb",
   "metadata": {},
   "outputs": [],
   "source": [
    "import sys\n",
    "sys.path.append('../..')"
   ]
  },
  {
   "cell_type": "code",
   "execution_count": 2,
   "id": "33ca16e3-6f21-4c31-b5e9-2c3e4ac7e88a",
   "metadata": {},
   "outputs": [
    {
     "name": "stderr",
     "output_type": "stream",
     "text": [
      "/Users/uh/projects/expose1/evidence-features/.venv/lib/python3.7/site-packages/tqdm/auto.py:22: TqdmWarning: IProgress not found. Please update jupyter and ipywidgets. See https://ipywidgets.readthedocs.io/en/stable/user_install.html\n",
      "  from .autonotebook import tqdm as notebook_tqdm\n"
     ]
    },
    {
     "name": "stdout",
     "output_type": "stream",
     "text": [
      "Loading pretrained XLM-Roberta, this may take a while...\n",
      "Loading tokenizer for german-hdt\n",
      "Loading tagger for german-hdt\n",
      "Loading lemmatizer for german-hdt\n",
      "Loading NER tagger for german-hdt\n",
      "==================================================\n",
      "Active language: german-hdt\n",
      "==================================================\n"
     ]
    },
    {
     "name": "stderr",
     "output_type": "stream",
     "text": [
      "Warning : `load_model` does not return WordVectorModel or SupervisedModel any more, but a `FastText` object which is very similar.\n"
     ]
    }
   ],
   "source": [
    "import gzip\n",
    "import evidence_features as evf\n",
    "import numpy as np\n",
    "import matplotlib.pyplot as plt\n",
    "%matplotlib inline"
   ]
  },
  {
   "cell_type": "code",
   "execution_count": 3,
   "id": "b0222983-4f9a-4239-b1ad-3a410cfd0678",
   "metadata": {},
   "outputs": [],
   "source": [
    "# read dataset\n",
    "with gzip.GzipFile('dataset.npy.gz', 'r') as fp:\n",
    "    y_train = np.load(fp)\n",
    "    X_train = [np.load(fp) for _ in range(12)]\n",
    "    y_test = np.load(fp)\n",
    "    X_test = [np.load(fp) for _ in range(12)]\n",
    "    xnames = np.load(fp)\n",
    "    labels = np.load(fp)"
   ]
  },
  {
   "cell_type": "code",
   "execution_count": 4,
   "id": "4430856e-df14-4825-93cf-1f100ebe4854",
   "metadata": {},
   "outputs": [],
   "source": [
    "# convert to floating point\n",
    "X_train = evf.i2f(*X_train)\n",
    "X_test = evf.i2f(*X_test)"
   ]
  },
  {
   "cell_type": "code",
   "execution_count": 5,
   "id": "3cd7be9d-60f5-4a57-be0a-dc5f5b901c60",
   "metadata": {},
   "outputs": [
    {
     "name": "stdout",
     "output_type": "stream",
     "text": [
      "CPU times: user 8.18 s, sys: 589 ms, total: 8.77 s\n",
      "Wall time: 7.23 s\n"
     ]
    },
    {
     "name": "stderr",
     "output_type": "stream",
     "text": [
      "/Users/uh/projects/expose1/evidence-features/.venv/lib/python3.7/site-packages/numpy/lib/function_base.py:2691: RuntimeWarning: invalid value encountered in true_divide\n",
      "  c /= stddev[:, None]\n",
      "/Users/uh/projects/expose1/evidence-features/.venv/lib/python3.7/site-packages/numpy/lib/function_base.py:2692: RuntimeWarning: invalid value encountered in true_divide\n",
      "  c /= stddev[None, :]\n"
     ]
    }
   ],
   "source": [
    "%%time\n",
    "rho = np.corrcoef(X_train, rowvar=False)"
   ]
  },
  {
   "cell_type": "code",
   "execution_count": 6,
   "id": "36ab186e-ec19-458b-8778-a4577427895e",
   "metadata": {},
   "outputs": [
    {
     "data": {
      "image/png": "[encoded data removed]",
      "text/plain": [
       "<Figure size 432x288 with 1 Axes>"
      ]
     },
     "metadata": {
      "needs_background": "light"
     },
     "output_type": "display_data"
    }
   ],
   "source": [
    "plt.hist(rho[np.triu_indices_from(rho, k=1)], bins=[-1., -.4, -.2, -.1, -.05, 0.0, .05, .1, .2, .4, 1.]);"
   ]
  }
 ],
 "metadata": {
  "kernelspec": {
   "display_name": "Python 3 (ipykernel)",
   "language": "python",
   "name": "python3"
  },
  "language_info": {
   "codemirror_mode": {
    "name": "ipython",
    "version": 3
   },
   "file_extension": ".py",
   "mimetype": "text/x-python",
   "name": "python",
   "nbconvert_exporter": "python",
   "pygments_lexer": "ipython3",
   "version": "3.7.9"
  }
 },
 "nbformat": 4,
 "nbformat_minor": 5
}
